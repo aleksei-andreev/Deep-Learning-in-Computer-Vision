{
  "nbformat": 4,
  "nbformat_minor": 0,
  "metadata": {
    "colab": {
      "provenance": []
    },
    "kernelspec": {
      "name": "python3",
      "display_name": "Python 3"
    },
    "language_info": {
      "name": "python"
    }
  },
  "cells": [
    {
      "cell_type": "markdown",
      "source": [
        "[![Open In Colab](https://colab.research.google.com/assets/colab-badge.svg)](https://colab.research.google.com/github/aleksei-andreev/Deep-Learning-in-Computer-Vision/blob/main/Deep_Learning_in_Computer_Vision_Demo.ipynb)"
      ],
      "metadata": {
        "id": "9UcP1vEcd1in"
      }
    },
    {
      "cell_type": "markdown",
      "source": [
        "First of all it is needed **to clone the main repository** containing the project"
      ],
      "metadata": {
        "id": "qvdBbMtEd8Mf"
      }
    },
    {
      "cell_type": "code",
      "source": [
        "!git clone https://github.com/aleksei-andreev/Deep-Learning-in-Computer-Vision.git"
      ],
      "metadata": {
        "id": "AjgE6L33eLjH"
      },
      "execution_count": null,
      "outputs": []
    },
    {
      "cell_type": "markdown",
      "source": [
        "Then **the current working directory should be changed** to the main project's one"
      ],
      "metadata": {
        "id": "Cy2Ft_oPebgY"
      }
    },
    {
      "cell_type": "code",
      "source": [
        "!cd Deep-Learning-in-Computer-Vision"
      ],
      "metadata": {
        "id": "vcg62ddSfGOw"
      },
      "execution_count": null,
      "outputs": []
    },
    {
      "cell_type": "markdown",
      "source": [
        "The next step is **to set the necessary requirements** using \"*requirements.txt*\" file"
      ],
      "metadata": {
        "id": "ZkVCnACxfMd3"
      }
    },
    {
      "cell_type": "code",
      "source": [
        "!pip install -r requirements.txt"
      ],
      "metadata": {
        "id": "sAQP_OA7fiT_"
      },
      "execution_count": null,
      "outputs": []
    },
    {
      "cell_type": "markdown",
      "source": [
        "Next, **the pre-trained weights and all materials must be loaded and retrieved**"
      ],
      "metadata": {
        "id": "aPoM-em6gzC3"
      }
    },
    {
      "cell_type": "code",
      "source": [
        "!gdown 1my5bV2HI3iMl85OOPOgYZPNye66EMnWs\n",
        "!gdown 1IWLNYaqmQuHBZYnTC3rBcH2nB0faOyJ7\n",
        "\n",
        "!unzip weights.zip\n",
        "!unzip MOT.zip"
      ],
      "metadata": {
        "id": "QLKFZKmLjZiX"
      },
      "execution_count": null,
      "outputs": []
    },
    {
      "cell_type": "markdown",
      "source": [
        "Further, **the main functions** for processing **must be imported**"
      ],
      "metadata": {
        "id": "bxdSmd8HjeH3"
      }
    },
    {
      "cell_type": "code",
      "source": [
        "import video_app\n",
        "import folder_app"
      ],
      "metadata": {
        "id": "cfUb3QZqjtWI"
      },
      "execution_count": null,
      "outputs": []
    },
    {
      "cell_type": "markdown",
      "source": [
        "Finally, it is possible **to perform** functions sequentially"
      ],
      "metadata": {
        "id": "Rnq6v5fDklPX"
      }
    },
    {
      "cell_type": "markdown",
      "source": [
        "To process **one video** *video_app.run_vid(\"Name\")* can be used"
      ],
      "metadata": {
        "id": "gy0N6Nt1k7bX"
      }
    },
    {
      "cell_type": "markdown",
      "source": [
        "Original **DeepSORT MOT Benchmarks** with default **DeepSORT Feature Extractor**:"
      ],
      "metadata": {
        "id": "2RwfsSezlo3m"
      }
    },
    {
      "cell_type": "code",
      "source": [
        "video_app.run_vid(\"TUD-Stadtmitte\")"
      ],
      "metadata": {
        "id": "JumbWTYglFOR"
      },
      "execution_count": null,
      "outputs": []
    },
    {
      "cell_type": "markdown",
      "source": [
        "The best combination of the detection model [**YOLOX-Large**] with the feature extractor [**OSNet**]:"
      ],
      "metadata": {
        "id": "K-q_z-1-mTXn"
      }
    },
    {
      "cell_type": "code",
      "source": [
        "video_app.run_vid(\"TUD-Stadtmitte\")"
      ],
      "metadata": {
        "id": "j5ho-2fbm8Vl"
      },
      "execution_count": null,
      "outputs": []
    },
    {
      "cell_type": "markdown",
      "source": [
        "**The entire material folder** can be processed at once using *folder_app.run_fold()*"
      ],
      "metadata": {
        "id": "OYDojJXFnJw3"
      }
    },
    {
      "cell_type": "markdown",
      "source": [
        "Original **DeepSORT MOT Benchmarks** with default **DeepSORT Feature Extractor**:"
      ],
      "metadata": {
        "id": "dGY2z3rjnmX3"
      }
    },
    {
      "cell_type": "code",
      "source": [
        "folder_app.run_fold()"
      ],
      "metadata": {
        "id": "9QRfuRLNniwG"
      },
      "execution_count": null,
      "outputs": []
    },
    {
      "cell_type": "markdown",
      "source": [
        "The best combination of the detection model [**YOLOX-Large**] with the feature extractor [**OSNet**]:"
      ],
      "metadata": {
        "id": "e0AE0GBantB-"
      }
    },
    {
      "cell_type": "code",
      "source": [
        "folder_app.run_fold()"
      ],
      "metadata": {
        "id": "fshG4aMGnuJG"
      },
      "execution_count": null,
      "outputs": []
    },
    {
      "cell_type": "markdown",
      "source": [
        "Then **the HOTA evaluator is needed to be imported**"
      ],
      "metadata": {
        "id": "x8WcG7kIopAg"
      }
    },
    {
      "cell_type": "code",
      "source": [
        "from TrackEval_master.scripts import run_mot_challenge as eval"
      ],
      "metadata": {
        "id": "an6Mpg8goZ7A"
      },
      "execution_count": null,
      "outputs": []
    },
    {
      "cell_type": "markdown",
      "source": [
        "Lastly, it is possible **to run the HOTA evaluation** having the results of processing"
      ],
      "metadata": {
        "id": "EWnUmYHMn09n"
      }
    },
    {
      "cell_type": "code",
      "source": [
        "eval"
      ],
      "metadata": {
        "id": "BExWtHMpoI8X"
      },
      "execution_count": null,
      "outputs": []
    }
  ]
}